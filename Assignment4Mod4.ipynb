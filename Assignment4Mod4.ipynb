{
 "cells": [
  {
   "cell_type": "code",
   "execution_count": null,
   "id": "8a617d0c-a46d-429e-9857-e6c9896d1640",
   "metadata": {},
   "outputs": [],
   "source": [
    "import pandas as pd\n",
    "from sklearn.feature_extraction.text import TfidfVectorizer\n",
    "from sklearn.cluster import KMeans\n",
    "import matplotlib.pyplot as plt\n"
   ]
  },
  {
   "cell_type": "code",
   "execution_count": null,
   "id": "4fa22bd9-07d1-4ba0-9da9-607d7db8c89f",
   "metadata": {},
   "outputs": [],
   "source": [
    "df = pd.read_csv('imdb_top_1000.csv')\n"
   ]
  },
  {
   "cell_type": "code",
   "execution_count": null,
   "id": "61979049-eca4-4fc5-964c-b7e18e995ee4",
   "metadata": {},
   "outputs": [],
   "source": [
    "features_to_use = ['Runtime', 'IMDB_Rating', 'Meta_score']\n",
    "\n",
    "df['Combined_Features'] = df[features_to_use].astype(str).agg(' '.join, axis=1)"
   ]
  },
  {
   "cell_type": "code",
   "execution_count": null,
   "id": "412c4d7e-87b6-4d37-be28-cec8f7d41700",
   "metadata": {},
   "outputs": [],
   "source": [
    "def calculate_cosine_similarity(data):\n",
    "    tfidf_vectorizer = TfidfVectorizer(stop_words='english')\n",
    "    tfidf_matrix = tfidf_vectorizer.fit_transform(data)\n",
    "    cosine_similarities = tfidf_matrix\n",
    "    return cosine_similarities\n",
    "\n",
    "def find_optimal_k(data, max_k=10):\n",
    "    wcss = []\n",
    "    for k in range(1, max_k + 1):\n",
    "        kmeans = KMeans(n_clusters=k, random_state=42)\n",
    "        kmeans.fit(data)\n",
    "        wcss.append(kmeans.inertia_)\n",
    "    return wcss"
   ]
  },
  {
   "cell_type": "code",
   "execution_count": null,
   "id": "4e55de51-b4b9-4a7a-86c9-0576b69317eb",
   "metadata": {},
   "outputs": [],
   "source": [
    "cosine_similarities = calculate_cosine_similarity(df['Combined_Features'])\n",
    "\n",
    "wcss_values = find_optimal_k(cosine_similarities)\n",
    "\n",
    "plt.plot(range(1, len(wcss_values) + 1), wcss_values, marker='o')\n",
    "plt.title('Elbow Method for Optimal k')\n",
    "plt.xlabel('Number of Clusters (k)')\n",
    "plt.ylabel('Within-Cluster Sum of Squares (WCSS)')\n",
    "plt.show()"
   ]
  },
  {
   "cell_type": "code",
   "execution_count": null,
   "id": "c6063908-f438-4076-8de8-0de43dce7fcd",
   "metadata": {},
   "outputs": [],
   "source": [
    "optimal_k = 5\n",
    "\n",
    "kmeans = KMeans(n_clusters=optimal_k, random_state=42)\n",
    "df['Cluster'] = kmeans.fit_predict(cosine_similarities)\n",
    "\n",
    "cluster_characteristics = df.groupby('Cluster').agg({\n",
    "    'Runtime': 'mean',\n",
    "    'IMDB_Rating': 'mean',\n",
    "    'Meta_score': 'mean',\n",
    "    'Genre': lambda x: x.mode().iloc[0]\n",
    "}).reset_index()\n",
    "\n",
    "print(cluster_characteristics)\n"
   ]
  }
 ],
 "metadata": {
  "kernelspec": {
   "display_name": "Python 3 (ipykernel)",
   "language": "python",
   "name": "python3"
  },
  "language_info": {
   "codemirror_mode": {
    "name": "ipython",
    "version": 3
   },
   "file_extension": ".py",
   "mimetype": "text/x-python",
   "name": "python",
   "nbconvert_exporter": "python",
   "pygments_lexer": "ipython3",
   "version": "3.10.2"
  }
 },
 "nbformat": 4,
 "nbformat_minor": 5
}
